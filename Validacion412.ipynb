{
  "cells": [
    {
      "cell_type": "markdown",
      "metadata": {
        "id": "view-in-github",
        "colab_type": "text"
      },
      "source": [
        "<a href=\"https://colab.research.google.com/github/DanielCarrasquilla/Curso_basico_python/blob/master/Validacion412.ipynb\" target=\"_parent\"><img src=\"https://colab.research.google.com/assets/colab-badge.svg\" alt=\"Open In Colab\"/></a>"
      ]
    },
    {
      "cell_type": "code",
      "source": [
        "!pip install pyspark==3.2.1\n",
        "!pip install findspark\n"
      ],
      "metadata": {
        "colab": {
          "base_uri": "https://localhost:8080/"
        },
        "id": "tU4bw0y5kysQ",
        "outputId": "64236afb-1310-453c-8547-2023ef95ae23"
      },
      "id": "tU4bw0y5kysQ",
      "execution_count": 1,
      "outputs": [
        {
          "output_type": "stream",
          "name": "stdout",
          "text": [
            "Looking in indexes: https://pypi.org/simple, https://us-python.pkg.dev/colab-wheels/public/simple/\n",
            "Requirement already satisfied: pyspark==3.2.1 in /usr/local/lib/python3.8/dist-packages (3.2.1)\n",
            "Requirement already satisfied: py4j==0.10.9.3 in /usr/local/lib/python3.8/dist-packages (from pyspark==3.2.1) (0.10.9.3)\n",
            "Looking in indexes: https://pypi.org/simple, https://us-python.pkg.dev/colab-wheels/public/simple/\n",
            "Requirement already satisfied: findspark in /usr/local/lib/python3.8/dist-packages (2.0.1)\n"
          ]
        }
      ]
    },
    {
      "cell_type": "code",
      "execution_count": 2,
      "id": "1ccd2299-c1cb-4689-8d18-151ed3882a38",
      "metadata": {
        "id": "1ccd2299-c1cb-4689-8d18-151ed3882a38"
      },
      "outputs": [],
      "source": [
        "from pyspark.sql import SparkSession"
      ]
    },
    {
      "cell_type": "code",
      "execution_count": 3,
      "id": "3b1319c2-c530-4ab7-a3ef-d299845f5d9b",
      "metadata": {
        "collapsed": true,
        "jupyter": {
          "outputs_hidden": true
        },
        "tags": [],
        "id": "3b1319c2-c530-4ab7-a3ef-d299845f5d9b"
      },
      "outputs": [],
      "source": [
        "spark = SparkSession.builder.getOrCreate()\n",
        "spark.sparkContext.setLogLevel(\"WARN\")"
      ]
    },
    {
      "cell_type": "code",
      "execution_count": 4,
      "id": "849806fb-f2a1-4351-8e5c-e38cfbd8782e",
      "metadata": {
        "colab": {
          "base_uri": "https://localhost:8080/",
          "height": 219
        },
        "id": "849806fb-f2a1-4351-8e5c-e38cfbd8782e",
        "outputId": "3f364902-3427-4a9e-a7ed-ea0b30ade2dd"
      },
      "outputs": [
        {
          "output_type": "execute_result",
          "data": {
            "text/plain": [
              "<pyspark.sql.session.SparkSession at 0x7f93e00a20a0>"
            ],
            "text/html": [
              "\n",
              "            <div>\n",
              "                <p><b>SparkSession - in-memory</b></p>\n",
              "                \n",
              "        <div>\n",
              "            <p><b>SparkContext</b></p>\n",
              "\n",
              "            <p><a href=\"http://e6085fe4afeb:4040\">Spark UI</a></p>\n",
              "\n",
              "            <dl>\n",
              "              <dt>Version</dt>\n",
              "                <dd><code>v3.2.1</code></dd>\n",
              "              <dt>Master</dt>\n",
              "                <dd><code>local[*]</code></dd>\n",
              "              <dt>AppName</dt>\n",
              "                <dd><code>pyspark-shell</code></dd>\n",
              "            </dl>\n",
              "        </div>\n",
              "        \n",
              "            </div>\n",
              "        "
            ]
          },
          "metadata": {},
          "execution_count": 4
        }
      ],
      "source": [
        "spark"
      ]
    },
    {
      "cell_type": "code",
      "execution_count": 5,
      "id": "f3779641-57ba-4031-a707-6a47756a9a0f",
      "metadata": {
        "id": "f3779641-57ba-4031-a707-6a47756a9a0f"
      },
      "outputs": [],
      "source": [
        "df = spark.read.format(\"csv\").option(\"delimiter\", \"|\").option(\"header\",\"true\").load(\"FORMATO_412_PROTO_20230304.csv\")"
      ]
    },
    {
      "cell_type": "code",
      "execution_count": 6,
      "id": "4ed7ad83-8a5b-442b-ace8-c622eaf3f25a",
      "metadata": {
        "colab": {
          "base_uri": "https://localhost:8080/"
        },
        "id": "4ed7ad83-8a5b-442b-ace8-c622eaf3f25a",
        "outputId": "5ece35f4-c5cb-4e87-e702-168a1442f2f0"
      },
      "outputs": [
        {
          "output_type": "stream",
          "name": "stdout",
          "text": [
            "+---------+------------+-------------------+----------------+------------------------+--------------------------------+-----------------+\n",
            "|subcuenta|codigo_canal|codigo_departamento|codigo_municipio|cantidad_puntos_atencion|cantidad_puntos_atencion_activos|unidad_de_captura|\n",
            "+---------+------------+-------------------+----------------+------------------------+--------------------------------+-----------------+\n",
            "|       23|          10|                 25|             572|                      14|                              14|               01|\n",
            "|       24|          10|                 47|             745|                       2|                               2|               01|\n",
            "|       25|          14|                 15|             572|                       1|                               1|               01|\n",
            "|       26|          04|                 52|             835|                       6|                               6|               01|\n",
            "|       27|          04|                 13|             430|                       2|                               2|               01|\n",
            "|       28|          10|                 41|             791|                      14|                              14|               01|\n",
            "|       29|          10|                 25|             779|                       4|                               4|               01|\n",
            "|       66|          10|                 15|             276|                       2|                               2|               01|\n",
            "|       67|          10|                 47|             460|                      14|                              14|               01|\n",
            "|       68|          14|                 68|             689|                       1|                               1|               01|\n",
            "|       69|          14|                 25|             769|                       1|                               1|               01|\n",
            "|       70|          04|                 17|             013|                       1|                               1|               01|\n",
            "|       71|          04|                 25|             307|                       9|                               9|               01|\n",
            "|       72|          04|                 05|             789|                       1|                               1|               01|\n",
            "|      109|          04|                 81|             001|                       3|                               3|               01|\n",
            "|      110|          04|                 76|             147|                       5|                               5|               01|\n",
            "|      111|          04|                 25|             473|                       9|                               9|               01|\n",
            "|      112|          14|                 17|             486|                       1|                               1|               01|\n",
            "|      113|          10|                 52|             399|                      11|                              11|               01|\n",
            "|      114|          10|                 68|             615|                      12|                              12|               01|\n",
            "+---------+------------+-------------------+----------------+------------------------+--------------------------------+-----------------+\n",
            "only showing top 20 rows\n",
            "\n"
          ]
        }
      ],
      "source": [
        "df.show()"
      ]
    },
    {
      "cell_type": "code",
      "execution_count": 7,
      "id": "d351f27a-2a76-4d42-a425-82ced72ba08c",
      "metadata": {
        "colab": {
          "base_uri": "https://localhost:8080/"
        },
        "id": "d351f27a-2a76-4d42-a425-82ced72ba08c",
        "outputId": "70d8ac46-7bbf-47a9-90a7-c880b5cf721a"
      },
      "outputs": [
        {
          "output_type": "stream",
          "name": "stdout",
          "text": [
            "root\n",
            " |-- subcuenta: string (nullable = true)\n",
            " |-- codigo_canal: string (nullable = true)\n",
            " |-- codigo_departamento: string (nullable = true)\n",
            " |-- codigo_municipio: string (nullable = true)\n",
            " |-- cantidad_puntos_atencion: string (nullable = true)\n",
            " |-- cantidad_puntos_atencion_activos: string (nullable = true)\n",
            " |-- unidad_de_captura: string (nullable = true)\n",
            "\n"
          ]
        }
      ],
      "source": [
        "df.printSchema()"
      ]
    },
    {
      "cell_type": "code",
      "execution_count": 8,
      "id": "f428ccc7-09f3-43e7-b915-4d89a5fa8ae3",
      "metadata": {
        "id": "f428ccc7-09f3-43e7-b915-4d89a5fa8ae3"
      },
      "outputs": [],
      "source": [
        "df.createTempView(\"df\")"
      ]
    },
    {
      "cell_type": "code",
      "execution_count": 9,
      "id": "f6bf7852-c0a1-4ec0-a9de-d88c670ec132",
      "metadata": {
        "colab": {
          "base_uri": "https://localhost:8080/"
        },
        "id": "f6bf7852-c0a1-4ec0-a9de-d88c670ec132",
        "outputId": "733b7ad9-5639-4a80-b412-462c9f920656"
      },
      "outputs": [
        {
          "output_type": "stream",
          "name": "stdout",
          "text": [
            "+---------+------------+-------------------+----------------+------------------------+--------------------------------+-----------------+\n",
            "|subcuenta|codigo_canal|codigo_departamento|codigo_municipio|cantidad_puntos_atencion|cantidad_puntos_atencion_activos|unidad_de_captura|\n",
            "+---------+------------+-------------------+----------------+------------------------+--------------------------------+-----------------+\n",
            "|       83|          14|                 13|             001|                      13|                              13|               01|\n",
            "+---------+------------+-------------------+----------------+------------------------+--------------------------------+-----------------+\n",
            "\n"
          ]
        }
      ],
      "source": [
        "#Validacion de duplicados 412\n",
        "spark.sql(\"\"\"\n",
        "select *\n",
        "from df\n",
        "where codigo_canal = '14'\n",
        "and codigo_departamento = '13'\n",
        "and codigo_municipio = '001'\n",
        "\"\"\").show()"
      ]
    },
    {
      "cell_type": "code",
      "execution_count": 10,
      "id": "7b33ebfc-7cf3-4ead-84ac-a34b08300a5f",
      "metadata": {
        "colab": {
          "base_uri": "https://localhost:8080/"
        },
        "id": "7b33ebfc-7cf3-4ead-84ac-a34b08300a5f",
        "outputId": "bc367904-2ac0-4efe-e793-27d2eab5c482"
      },
      "outputs": [
        {
          "output_type": "stream",
          "name": "stdout",
          "text": [
            "+------------+-------------------+----------------+--------+\n",
            "|codigo_canal|codigo_departamento|codigo_municipio|cantidad|\n",
            "+------------+-------------------+----------------+--------+\n",
            "+------------+-------------------+----------------+--------+\n",
            "\n"
          ]
        }
      ],
      "source": [
        "spark.sql(\"\"\" \n",
        "select * from \n",
        "(select codigo_canal,codigo_departamento,codigo_municipio,count(*) as cantidad from df\n",
        "group by codigo_canal,codigo_departamento,codigo_municipio) a\n",
        "where a.cantidad != 1\n",
        "\"\"\").show(n=1008)"
      ]
    },
    {
      "cell_type": "code",
      "execution_count": 13,
      "id": "e8606914-2fde-4796-b4f9-a8d940e1801e",
      "metadata": {
        "id": "e8606914-2fde-4796-b4f9-a8d940e1801e"
      },
      "outputs": [],
      "source": [
        "#Lectura Formato 413\n",
        "\n",
        "df413 = spark.read.format(\"csv\").option(\"delimiter\", \"|\").option(\"header\",\"true\").load(\"FORMATO_413_PROTO_20230204(1).csv\")"
      ]
    },
    {
      "cell_type": "code",
      "source": [
        "#Validación de duplicados 413\n",
        "df413.createTempView(\"df413\")\n",
        "\n",
        "spark.sql(\n",
        "\"\"\"\n",
        "Select \n",
        "cod_distribucion , cod_serv_transaccional , cod_departamento , cod_municipio , cod_operacion , cod_tipo_persona , cod_ciiu , cod_mecanismo , unidad_de_captura,\n",
        "count(*) from df413\n",
        "GROUP BY \n",
        "cod_distribucion , cod_serv_transaccional , cod_departamento , cod_municipio , cod_operacion , cod_tipo_persona , cod_ciiu , cod_mecanismo , unidad_de_captura \n",
        "HAving count(*) > 1\n",
        "\"\"\"\n",
        ").show()\n"
      ],
      "metadata": {
        "colab": {
          "base_uri": "https://localhost:8080/"
        },
        "id": "O86HsUa3bbsr",
        "outputId": "f75b6516-6726-45c9-d870-f22c40498a02"
      },
      "id": "O86HsUa3bbsr",
      "execution_count": 14,
      "outputs": [
        {
          "output_type": "stream",
          "name": "stdout",
          "text": [
            "+----------------+----------------------+----------------+-------------+-------------+----------------+--------+-------------+-----------------+--------+\n",
            "|cod_distribucion|cod_serv_transaccional|cod_departamento|cod_municipio|cod_operacion|cod_tipo_persona|cod_ciiu|cod_mecanismo|unidad_de_captura|count(1)|\n",
            "+----------------+----------------------+----------------+-------------+-------------+----------------+--------+-------------+-----------------+--------+\n",
            "+----------------+----------------------+----------------+-------------+-------------+----------------+--------+-------------+-----------------+--------+\n",
            "\n"
          ]
        }
      ]
    },
    {
      "cell_type": "code",
      "source": [
        "spark.sql(\"select distinct(df413.cod_distribucion), df413.cod_serv_transaccional from df413 where df413.cod_operacion ='N/A'\").show()"
      ],
      "metadata": {
        "colab": {
          "base_uri": "https://localhost:8080/"
        },
        "id": "e0TyytRwGqUH",
        "outputId": "9d3acf66-a0d6-4a87-99a5-1eaf41803f49"
      },
      "id": "e0TyytRwGqUH",
      "execution_count": 15,
      "outputs": [
        {
          "output_type": "stream",
          "name": "stdout",
          "text": [
            "+----------------+----------------------+\n",
            "|cod_distribucion|cod_serv_transaccional|\n",
            "+----------------+----------------------+\n",
            "|              02|                    00|\n",
            "|              04|                    00|\n",
            "|              01|                    00|\n",
            "|              13|                    00|\n",
            "|              14|                    00|\n",
            "+----------------+----------------------+\n",
            "\n"
          ]
        }
      ]
    },
    {
      "cell_type": "code",
      "source": [
        "df4=spark.sql(\"\"\"\n",
        "SELECT \n",
        "    subcuenta,\n",
        "    CASE \n",
        "        WHEN cod_serv_transaccional = '00' THEN '00'\n",
        "    END AS cod_distribucion,\n",
        "    cod_serv_transaccional,\n",
        "    cod_departamento,\n",
        "    cod_municipio,\n",
        "    cod_operacion,\n",
        "    cod_tipo_persona,\n",
        "    cod_ciiu,\n",
        "    cod_mecanismo,\n",
        "    cantidad_operaciones,\n",
        "    monto_operaciones,\n",
        "    unidad_de_captura\n",
        "FROM df413\n",
        "where cod_operacion ='N/A'\n",
        "    \"\"\"\n",
        ")"
      ],
      "metadata": {
        "id": "VRii-vDyZnOV"
      },
      "id": "VRii-vDyZnOV",
      "execution_count": 22,
      "outputs": []
    },
    {
      "cell_type": "code",
      "source": [
        "df4=spark.sql(\"\"\"\n",
        "SELECT \n",
        "    subcuenta,\n",
        "    cod_distribucion,\n",
        "    cod_serv_transaccional,\n",
        "    CASE \n",
        "        WHEN cod_serv_transaccional = '00' THEN '00'\n",
        "    END AS \n",
        "    cod_departamento,\n",
        "    cod_municipio,\n",
        "    cod_operacion,\n",
        "    cod_tipo_persona,\n",
        "    cod_ciiu,\n",
        "    cod_mecanismo,\n",
        "    cantidad_operaciones,\n",
        "    monto_operaciones,\n",
        "    unidad_de_captura\n",
        "FROM df413\n",
        "where cod_operacion ='N/A'\n",
        "    \"\"\"\n",
        ")"
      ],
      "metadata": {
        "id": "a3xTZY6D_P5H"
      },
      "id": "a3xTZY6D_P5H",
      "execution_count": null,
      "outputs": []
    },
    {
      "cell_type": "code",
      "source": [
        "df4.createTempView(\"df4\")"
      ],
      "metadata": {
        "id": "SY9-WwkeeZnv"
      },
      "id": "SY9-WwkeeZnv",
      "execution_count": 19,
      "outputs": []
    },
    {
      "cell_type": "code",
      "source": [
        "spark.catalog.dropTempView(\"df4\")"
      ],
      "metadata": {
        "id": "-IlvpBX2_MCb"
      },
      "id": "-IlvpBX2_MCb",
      "execution_count": 21,
      "outputs": []
    },
    {
      "cell_type": "code",
      "source": [
        "spark.sql(\"select * from df4\").show()"
      ],
      "metadata": {
        "colab": {
          "base_uri": "https://localhost:8080/"
        },
        "id": "jNEJxj0dbxLd",
        "outputId": "8642c8c7-506e-4faa-e796-bdb99b2364ed"
      },
      "id": "jNEJxj0dbxLd",
      "execution_count": 20,
      "outputs": [
        {
          "output_type": "stream",
          "name": "stdout",
          "text": [
            "+---------+----------------+----------------------+----------------+-------------+-------------+----------------+--------+-------------+--------------------+-----------------+-----------------+\n",
            "|subcuenta|cod_distribucion|cod_serv_transaccional|cod_departamento|cod_municipio|cod_operacion|cod_tipo_persona|cod_ciiu|cod_mecanismo|cantidad_operaciones|monto_operaciones|unidad_de_captura|\n",
            "+---------+----------------+----------------------+----------------+-------------+-------------+----------------+--------+-------------+--------------------+-----------------+-----------------+\n",
            "|    11160|              00|                    00|              25|          899|          N/A|             N/A|   05012|          N/A|                   2|          1750000|               02|\n",
            "|    11161|              00|                    00|              00|          000|          N/A|             N/A|    4690|          N/A|                   3|          3031900|               02|\n",
            "|    11162|              00|                    00|              52|          001|          N/A|             N/A|   02211|          N/A|                   2|          2200000|               02|\n",
            "|    11163|              00|                    00|              85|          410|          N/A|             N/A|   04741|          N/A|                   1|           200000|               02|\n",
            "|    11164|              00|                    00|              25|          740|          N/A|             N/A|   08560|          N/A|                   2|           295000|               02|\n",
            "|    11165|              00|                    00|              00|          000|          N/A|             N/A|   04930|          N/A|                   3|           191591|               02|\n",
            "|    11166|              00|                    00|              54|          498|          N/A|             N/A|   05511|          N/A|                   5|         27030000|               02|\n",
            "|    11167|              00|                    00|              51|          154|          N/A|             N/A|   06399|          N/A|                   3|          5603000|               02|\n",
            "|    11168|              00|                    00|              47|          288|          N/A|             N/A|   02310|          N/A|                   2|           400000|               02|\n",
            "|    11169|              00|                    00|              52|          001|          N/A|             N/A|   01399|          N/A|                   1|          9060000|               02|\n",
            "|     1117|              00|                    00|              66|          001|          N/A|             N/A|   04664|          N/A|                   6|         16689278|               02|\n",
            "|    11170|              00|                    00|              76|          147|          N/A|             N/A|   00082|          N/A|                 126|        534318546|               02|\n",
            "|    11171|              00|                    00|              11|          001|          N/A|             N/A|    4542|          N/A|                   4|           635000|               02|\n",
            "|    11172|              00|                    00|              66|          687|          N/A|             N/A|   05512|          N/A|                   1|          1255000|               02|\n",
            "|    11174|              00|                    00|              88|          001|          N/A|             N/A|   07220|          N/A|                   1|           800000|               02|\n",
            "|    11175|              00|                    00|              25|          740|          N/A|             N/A|   01410|          N/A|                   8|          6066000|               02|\n",
            "|    11176|              00|                    00|              73|          449|          N/A|             N/A|   01922|          N/A|                   1|          4500000|               02|\n",
            "|    11177|              00|                    00|              18|          001|          N/A|             N/A|   04662|          N/A|                   1|          5000000|               02|\n",
            "|     1118|              00|                    00|              11|          001|          N/A|             N/A|   04665|          N/A|                   9|          5320000|               02|\n",
            "|    11181|              00|                    00|              25|          286|          N/A|             N/A|   08699|          N/A|                   3|          4150000|               02|\n",
            "+---------+----------------+----------------------+----------------+-------------+-------------+----------------+--------+-------------+--------------------+-----------------+-----------------+\n",
            "only showing top 20 rows\n",
            "\n"
          ]
        }
      ]
    }
  ],
  "metadata": {
    "kernelspec": {
      "display_name": "Python 3 (ipykernel)",
      "language": "python",
      "name": "python3"
    },
    "language_info": {
      "codemirror_mode": {
        "name": "ipython",
        "version": 3
      },
      "file_extension": ".py",
      "mimetype": "text/x-python",
      "name": "python",
      "nbconvert_exporter": "python",
      "pygments_lexer": "ipython3",
      "version": "3.9.5"
    },
    "colab": {
      "provenance": [],
      "include_colab_link": true
    }
  },
  "nbformat": 4,
  "nbformat_minor": 5
}